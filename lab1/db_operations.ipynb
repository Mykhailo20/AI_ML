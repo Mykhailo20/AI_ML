{
 "cells": [
  {
   "cell_type": "code",
   "execution_count": 1,
   "id": "e229fe17-ab61-413a-8c62-6841064dd362",
   "metadata": {},
   "outputs": [],
   "source": [
    "from flask_sqlalchemy import SQLAlchemy\n",
    "from main_project import app, db\n",
    "from main_project.models import User, Quiz, UserAnswer"
   ]
  },
  {
   "cell_type": "code",
   "execution_count": 4,
   "id": "af50878e-1b84-4d57-b171-deb333aa3c4e",
   "metadata": {},
   "outputs": [
    {
     "name": "stdout",
     "output_type": "stream",
     "text": [
      "quiz.id = 6; quiz.datetime = 2024-02-27 14:17:01.674135\n"
     ]
    }
   ],
   "source": [
    "app.app_context().push()\n",
    "current_quiz = Quiz.query.all()[-1]\n",
    "print(f\"quiz.id = {current_quiz.id}; quiz.datetime = {current_quiz.datetime}\")"
   ]
  },
  {
   "cell_type": "code",
   "execution_count": 5,
   "id": "1a92853f-5924-47ae-bbe3-59e21d252968",
   "metadata": {},
   "outputs": [
    {
     "name": "stdout",
     "output_type": "stream",
     "text": [
      "quiz_answers = [<UserAnswer 66>, <UserAnswer 67>, <UserAnswer 68>, <UserAnswer 69>, <UserAnswer 70>, <UserAnswer 71>, <UserAnswer 72>, <UserAnswer 73>, <UserAnswer 74>, <UserAnswer 75>, <UserAnswer 76>, <UserAnswer 77>, <UserAnswer 78>, <UserAnswer 79>, <UserAnswer 80>, <UserAnswer 81>]\n"
     ]
    }
   ],
   "source": [
    "quiz_answers = UserAnswer.query.filter_by(quiz_id=current_quiz.id).all()\n",
    "print(f\"quiz_answers = {quiz_answers}\")"
   ]
  },
  {
   "cell_type": "code",
   "execution_count": 6,
   "id": "d6adcc26-53df-4a9c-aada-a6dd13ba6532",
   "metadata": {},
   "outputs": [],
   "source": [
    "def show_answer(answer):\n",
    "    print(f\"answer.id = {answer.id}, answer.quiz_id = {answer.quiz_id}, answer.block_name = {answer.block_name}\")\n",
    "    print(f\"answer.question_no={answer.question_no}, answer.answer_score = {answer.answer_score}\\n\")"
   ]
  },
  {
   "cell_type": "code",
   "execution_count": 7,
   "id": "05bcbcb9-b20f-4dc0-81c0-0781f292f3b8",
   "metadata": {},
   "outputs": [
    {
     "name": "stdout",
     "output_type": "stream",
     "text": [
      "answer.id = 66, answer.quiz_id = 6, answer.block_name = novice\n",
      "answer.question_no=1, answer.answer_score = 2\n",
      "\n",
      "answer.id = 67, answer.quiz_id = 6, answer.block_name = novice\n",
      "answer.question_no=2, answer.answer_score = 2\n",
      "\n",
      "answer.id = 68, answer.quiz_id = 6, answer.block_name = novice\n",
      "answer.question_no=3, answer.answer_score = 3\n",
      "\n",
      "answer.id = 69, answer.quiz_id = 6, answer.block_name = novice\n",
      "answer.question_no=4, answer.answer_score = 2\n",
      "\n",
      "answer.id = 70, answer.quiz_id = 6, answer.block_name = advanced_beginner\n",
      "answer.question_no=1, answer.answer_score = 2\n",
      "\n",
      "answer.id = 71, answer.quiz_id = 6, answer.block_name = advanced_beginner\n",
      "answer.question_no=2, answer.answer_score = 2\n",
      "\n",
      "answer.id = 72, answer.quiz_id = 6, answer.block_name = advanced_beginner\n",
      "answer.question_no=3, answer.answer_score = 3\n",
      "\n",
      "answer.id = 73, answer.quiz_id = 6, answer.block_name = competent\n",
      "answer.question_no=1, answer.answer_score = 5\n",
      "\n",
      "answer.id = 74, answer.quiz_id = 6, answer.block_name = competent\n",
      "answer.question_no=2, answer.answer_score = 5\n",
      "\n",
      "answer.id = 75, answer.quiz_id = 6, answer.block_name = competent\n",
      "answer.question_no=3, answer.answer_score = 5\n",
      "\n",
      "answer.id = 76, answer.quiz_id = 6, answer.block_name = proficient\n",
      "answer.question_no=1, answer.answer_score = 5\n",
      "\n",
      "answer.id = 77, answer.quiz_id = 6, answer.block_name = proficient\n",
      "answer.question_no=2, answer.answer_score = 5\n",
      "\n",
      "answer.id = 78, answer.quiz_id = 6, answer.block_name = proficient\n",
      "answer.question_no=3, answer.answer_score = 5\n",
      "\n",
      "answer.id = 79, answer.quiz_id = 6, answer.block_name = expert\n",
      "answer.question_no=1, answer.answer_score = 5\n",
      "\n",
      "answer.id = 80, answer.quiz_id = 6, answer.block_name = expert\n",
      "answer.question_no=2, answer.answer_score = 5\n",
      "\n",
      "answer.id = 81, answer.quiz_id = 6, answer.block_name = expert\n",
      "answer.question_no=3, answer.answer_score = 5\n",
      "\n"
     ]
    }
   ],
   "source": [
    "for answer in quiz_answers:\n",
    "    show_answer(answer)"
   ]
  },
  {
   "cell_type": "code",
   "execution_count": 8,
   "id": "31f3c279-b77e-47ec-94d0-cf2b50e41268",
   "metadata": {},
   "outputs": [
    {
     "name": "stdout",
     "output_type": "stream",
     "text": [
      "/***************************/\n",
      "Block: novice\n",
      "answer.id = 66, answer.quiz_id = 6, answer.block_name = novice\n",
      "answer.question_no=1, answer.answer_score = 2\n",
      "\n",
      "answer.id = 67, answer.quiz_id = 6, answer.block_name = novice\n",
      "answer.question_no=2, answer.answer_score = 2\n",
      "\n",
      "answer.id = 68, answer.quiz_id = 6, answer.block_name = novice\n",
      "answer.question_no=3, answer.answer_score = 3\n",
      "\n",
      "answer.id = 69, answer.quiz_id = 6, answer.block_name = novice\n",
      "answer.question_no=4, answer.answer_score = 2\n",
      "\n",
      "/***************************/\n",
      "Block: advanced_beginner\n",
      "answer.id = 70, answer.quiz_id = 6, answer.block_name = advanced_beginner\n",
      "answer.question_no=1, answer.answer_score = 2\n",
      "\n",
      "answer.id = 71, answer.quiz_id = 6, answer.block_name = advanced_beginner\n",
      "answer.question_no=2, answer.answer_score = 2\n",
      "\n",
      "answer.id = 72, answer.quiz_id = 6, answer.block_name = advanced_beginner\n",
      "answer.question_no=3, answer.answer_score = 3\n",
      "\n",
      "/***************************/\n",
      "Block: competent\n",
      "answer.id = 73, answer.quiz_id = 6, answer.block_name = competent\n",
      "answer.question_no=1, answer.answer_score = 5\n",
      "\n",
      "answer.id = 74, answer.quiz_id = 6, answer.block_name = competent\n",
      "answer.question_no=2, answer.answer_score = 5\n",
      "\n",
      "answer.id = 75, answer.quiz_id = 6, answer.block_name = competent\n",
      "answer.question_no=3, answer.answer_score = 5\n",
      "\n",
      "/***************************/\n",
      "Block: proficient\n",
      "answer.id = 76, answer.quiz_id = 6, answer.block_name = proficient\n",
      "answer.question_no=1, answer.answer_score = 5\n",
      "\n",
      "answer.id = 77, answer.quiz_id = 6, answer.block_name = proficient\n",
      "answer.question_no=2, answer.answer_score = 5\n",
      "\n",
      "answer.id = 78, answer.quiz_id = 6, answer.block_name = proficient\n",
      "answer.question_no=3, answer.answer_score = 5\n",
      "\n",
      "/***************************/\n",
      "Block: expert\n",
      "answer.id = 79, answer.quiz_id = 6, answer.block_name = expert\n",
      "answer.question_no=1, answer.answer_score = 5\n",
      "\n",
      "answer.id = 80, answer.quiz_id = 6, answer.block_name = expert\n",
      "answer.question_no=2, answer.answer_score = 5\n",
      "\n",
      "answer.id = 81, answer.quiz_id = 6, answer.block_name = expert\n",
      "answer.question_no=3, answer.answer_score = 5\n",
      "\n"
     ]
    }
   ],
   "source": [
    "quiz_answers_block = {}\n",
    "\n",
    "for answer in quiz_answers:\n",
    "    block_name = answer.block_name\n",
    "    if block_name not in quiz_answers_block:\n",
    "        quiz_answers_block[block_name] = []\n",
    "    quiz_answers_block[block_name].append(answer)\n",
    "\n",
    "for block, answers in quiz_answers_block.items():\n",
    "    print(f\"/***************************/\")\n",
    "    print(f\"Block: {block}\")\n",
    "    for answer in answers:\n",
    "        show_answer(answer)"
   ]
  },
  {
   "cell_type": "code",
   "execution_count": 9,
   "id": "2b34c32a-ab23-44f5-ab12-fa60aba42d1b",
   "metadata": {},
   "outputs": [
    {
     "data": {
      "text/plain": [
       "dict_keys(['novice', 'advanced_beginner', 'competent', 'proficient', 'expert'])"
      ]
     },
     "execution_count": 9,
     "metadata": {},
     "output_type": "execute_result"
    }
   ],
   "source": [
    "quiz_answers_block.keys()"
   ]
  },
  {
   "cell_type": "code",
   "execution_count": 10,
   "id": "2fb414f0-3f12-429f-ba55-d5218bff1981",
   "metadata": {},
   "outputs": [
    {
     "name": "stdout",
     "output_type": "stream",
     "text": [
      "/***************************/\n",
      "Block: novice\n",
      "question_nos = [1, 2, 3, 4]\n",
      "answer_scores = [2, 2, 3, 2]\n",
      "/***************************/\n",
      "Block: advanced_beginner\n",
      "question_nos = [1, 2, 3]\n",
      "answer_scores = [2, 2, 3]\n",
      "/***************************/\n",
      "Block: competent\n",
      "question_nos = [1, 2, 3]\n",
      "answer_scores = [5, 5, 5]\n",
      "/***************************/\n",
      "Block: proficient\n",
      "question_nos = [1, 2, 3]\n",
      "answer_scores = [5, 5, 5]\n",
      "/***************************/\n",
      "Block: expert\n",
      "question_nos = [1, 2, 3]\n",
      "answer_scores = [5, 5, 5]\n"
     ]
    }
   ],
   "source": [
    "quiz_answers_block = {}\n",
    "general_score = 0\n",
    "\n",
    "for answer in quiz_answers:\n",
    "    block_name = answer.block_name\n",
    "    if block_name not in quiz_answers_block:\n",
    "        quiz_answers_block[block_name] = {'question_nos': [], 'answer_scores': []}\n",
    "    general_score += answer.answer_score\n",
    "    quiz_answers_block[block_name]['question_nos'].append(answer.question_no)\n",
    "    quiz_answers_block[block_name]['answer_scores'].append(answer.answer_score)\n",
    "\n",
    "for block, answer_dict in quiz_answers_block.items():\n",
    "    print(f\"/***************************/\")\n",
    "    print(f\"Block: {block}\")\n",
    "    print(f\"question_nos = {answer_dict['question_nos']}\")\n",
    "    print(f\"answer_scores = {answer_dict['answer_scores']}\")"
   ]
  },
  {
   "cell_type": "code",
   "execution_count": 11,
   "id": "d51b27c0-7be9-434b-850e-44517fa96587",
   "metadata": {},
   "outputs": [
    {
     "data": {
      "text/plain": [
       "61"
      ]
     },
     "execution_count": 11,
     "metadata": {},
     "output_type": "execute_result"
    }
   ],
   "source": [
    "general_score"
   ]
  },
  {
   "cell_type": "code",
   "execution_count": 15,
   "id": "cb155058-1fe1-4886-a75b-ea05541ad36b",
   "metadata": {},
   "outputs": [
    {
     "data": {
      "text/plain": [
       "['novice', 'advanced_beginner', 'competent', 'proficient', 'expert']"
      ]
     },
     "execution_count": 15,
     "metadata": {},
     "output_type": "execute_result"
    }
   ],
   "source": [
    "list(quiz_answers_block.keys())"
   ]
  },
  {
   "cell_type": "code",
   "execution_count": 16,
   "id": "35bfb520-57de-4d1f-bca6-edb5b2abbadf",
   "metadata": {},
   "outputs": [
    {
     "data": {
      "text/plain": [
       "9"
      ]
     },
     "execution_count": 16,
     "metadata": {},
     "output_type": "execute_result"
    }
   ],
   "source": [
    "block_scores_list\n"
   ]
  },
  {
   "cell_type": "code",
   "execution_count": 18,
   "id": "cbc6d552-08fe-457c-8745-8132dad6ebcd",
   "metadata": {},
   "outputs": [
    {
     "data": {
      "text/plain": [
       "{'block_names': ['novice',\n",
       "  'advanced_beginner',\n",
       "  'competent',\n",
       "  'proficient',\n",
       "  'expert'],\n",
       " 'block_scores': [9, 7, 15, 15, 15]}"
      ]
     },
     "execution_count": 18,
     "metadata": {},
     "output_type": "execute_result"
    }
   ],
   "source": [
    "quiz_block_score = {\"block_names\": list(quiz_answers_block.keys()), \"block_scores\": []}\n",
    "for block_name in quiz_block_score['block_names']:\n",
    "    quiz_block_score['block_scores'].append(sum(quiz_answers_block[block_name]['answer_scores']))\n",
    "\n",
    "quiz_block_score"
   ]
  }
 ],
 "metadata": {
  "kernelspec": {
   "display_name": "Python 3 (ipykernel)",
   "language": "python",
   "name": "python3"
  },
  "language_info": {
   "codemirror_mode": {
    "name": "ipython",
    "version": 3
   },
   "file_extension": ".py",
   "mimetype": "text/x-python",
   "name": "python",
   "nbconvert_exporter": "python",
   "pygments_lexer": "ipython3",
   "version": "3.10.8"
  }
 },
 "nbformat": 4,
 "nbformat_minor": 5
}
