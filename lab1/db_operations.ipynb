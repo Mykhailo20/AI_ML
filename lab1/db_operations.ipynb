{
 "cells": [
  {
   "cell_type": "code",
   "execution_count": 1,
   "id": "e229fe17-ab61-413a-8c62-6841064dd362",
   "metadata": {},
   "outputs": [],
   "source": [
    "from flask_sqlalchemy import SQLAlchemy\n",
    "from main_project import app, db\n",
    "from main_project.models import User, Quiz, UserAnswer"
   ]
  },
  {
   "cell_type": "code",
   "execution_count": 5,
   "id": "af50878e-1b84-4d57-b171-deb333aa3c4e",
   "metadata": {},
   "outputs": [
    {
     "name": "stdout",
     "output_type": "stream",
     "text": [
      "quiz.id = 1; quiz.datetime = 2024-02-25 18:39:36.655009\n"
     ]
    }
   ],
   "source": [
    "app.app_context().push()\n",
    "current_quiz = Quiz.query.all()[-1]\n",
    "print(f\"quiz.id = {current_quiz.id}; quiz.datetime = {current_quiz.datetime}\")"
   ]
  },
  {
   "cell_type": "code",
   "execution_count": 7,
   "id": "1a92853f-5924-47ae-bbe3-59e21d252968",
   "metadata": {},
   "outputs": [
    {
     "name": "stdout",
     "output_type": "stream",
     "text": [
      "quiz_answers = [<UserAnswer 1>, <UserAnswer 2>, <UserAnswer 3>, <UserAnswer 4>, <UserAnswer 5>, <UserAnswer 6>, <UserAnswer 7>, <UserAnswer 8>, <UserAnswer 9>, <UserAnswer 10>, <UserAnswer 11>, <UserAnswer 12>, <UserAnswer 13>]\n"
     ]
    }
   ],
   "source": [
    "quiz_answers = UserAnswer.query.filter_by(quiz_id=current_quiz.id).all()\n",
    "print(f\"quiz_answers = {quiz_answers}\")"
   ]
  },
  {
   "cell_type": "code",
   "execution_count": 10,
   "id": "d6adcc26-53df-4a9c-aada-a6dd13ba6532",
   "metadata": {},
   "outputs": [],
   "source": [
    "def show_answer(answer):\n",
    "    print(f\"answer.id = {answer.id}, answer.quiz_id = {answer.quiz_id}, answer.block_name = {answer.block_name}\")\n",
    "    print(f\"answer.question_no={answer.question_no}, answer.answer_score = {answer.answer_score}\\n\")"
   ]
  },
  {
   "cell_type": "code",
   "execution_count": 11,
   "id": "05bcbcb9-b20f-4dc0-81c0-0781f292f3b8",
   "metadata": {},
   "outputs": [
    {
     "name": "stdout",
     "output_type": "stream",
     "text": [
      "answer.id = 1, answer.quiz_id = 1, answer.block_name = novice\n",
      "answer.question_no=1, answer.answer_score = 2\n",
      "\n",
      "answer.id = 2, answer.quiz_id = 1, answer.block_name = novice\n",
      "answer.question_no=2, answer.answer_score = 3\n",
      "\n",
      "answer.id = 3, answer.quiz_id = 1, answer.block_name = novice\n",
      "answer.question_no=3, answer.answer_score = 3\n",
      "\n",
      "answer.id = 4, answer.quiz_id = 1, answer.block_name = novice\n",
      "answer.question_no=4, answer.answer_score = 3\n",
      "\n",
      "answer.id = 5, answer.quiz_id = 1, answer.block_name = competent\n",
      "answer.question_no=1, answer.answer_score = 3\n",
      "\n",
      "answer.id = 6, answer.quiz_id = 1, answer.block_name = competent\n",
      "answer.question_no=2, answer.answer_score = 5\n",
      "\n",
      "answer.id = 7, answer.quiz_id = 1, answer.block_name = competent\n",
      "answer.question_no=3, answer.answer_score = 3\n",
      "\n",
      "answer.id = 8, answer.quiz_id = 1, answer.block_name = proficient\n",
      "answer.question_no=1, answer.answer_score = 2\n",
      "\n",
      "answer.id = 9, answer.quiz_id = 1, answer.block_name = proficient\n",
      "answer.question_no=2, answer.answer_score = 5\n",
      "\n",
      "answer.id = 10, answer.quiz_id = 1, answer.block_name = proficient\n",
      "answer.question_no=3, answer.answer_score = 5\n",
      "\n",
      "answer.id = 11, answer.quiz_id = 1, answer.block_name = expert\n",
      "answer.question_no=1, answer.answer_score = 5\n",
      "\n",
      "answer.id = 12, answer.quiz_id = 1, answer.block_name = expert\n",
      "answer.question_no=2, answer.answer_score = 5\n",
      "\n",
      "answer.id = 13, answer.quiz_id = 1, answer.block_name = expert\n",
      "answer.question_no=3, answer.answer_score = 3\n",
      "\n"
     ]
    }
   ],
   "source": [
    "for answer in quiz_answers:\n",
    "    show_answer(answer)"
   ]
  },
  {
   "cell_type": "code",
   "execution_count": 14,
   "id": "31f3c279-b77e-47ec-94d0-cf2b50e41268",
   "metadata": {},
   "outputs": [
    {
     "name": "stdout",
     "output_type": "stream",
     "text": [
      "/***************************/\n",
      "Block: novice\n",
      "answer.id = 1, answer.quiz_id = 1, answer.block_name = novice\n",
      "answer.question_no=1, answer.answer_score = 2\n",
      "\n",
      "answer.id = 2, answer.quiz_id = 1, answer.block_name = novice\n",
      "answer.question_no=2, answer.answer_score = 3\n",
      "\n",
      "answer.id = 3, answer.quiz_id = 1, answer.block_name = novice\n",
      "answer.question_no=3, answer.answer_score = 3\n",
      "\n",
      "answer.id = 4, answer.quiz_id = 1, answer.block_name = novice\n",
      "answer.question_no=4, answer.answer_score = 3\n",
      "\n",
      "/***************************/\n",
      "Block: competent\n",
      "answer.id = 5, answer.quiz_id = 1, answer.block_name = competent\n",
      "answer.question_no=1, answer.answer_score = 3\n",
      "\n",
      "answer.id = 6, answer.quiz_id = 1, answer.block_name = competent\n",
      "answer.question_no=2, answer.answer_score = 5\n",
      "\n",
      "answer.id = 7, answer.quiz_id = 1, answer.block_name = competent\n",
      "answer.question_no=3, answer.answer_score = 3\n",
      "\n",
      "/***************************/\n",
      "Block: proficient\n",
      "answer.id = 8, answer.quiz_id = 1, answer.block_name = proficient\n",
      "answer.question_no=1, answer.answer_score = 2\n",
      "\n",
      "answer.id = 9, answer.quiz_id = 1, answer.block_name = proficient\n",
      "answer.question_no=2, answer.answer_score = 5\n",
      "\n",
      "answer.id = 10, answer.quiz_id = 1, answer.block_name = proficient\n",
      "answer.question_no=3, answer.answer_score = 5\n",
      "\n",
      "/***************************/\n",
      "Block: expert\n",
      "answer.id = 11, answer.quiz_id = 1, answer.block_name = expert\n",
      "answer.question_no=1, answer.answer_score = 5\n",
      "\n",
      "answer.id = 12, answer.quiz_id = 1, answer.block_name = expert\n",
      "answer.question_no=2, answer.answer_score = 5\n",
      "\n",
      "answer.id = 13, answer.quiz_id = 1, answer.block_name = expert\n",
      "answer.question_no=3, answer.answer_score = 3\n",
      "\n"
     ]
    }
   ],
   "source": [
    "quiz_answers_block = {}\n",
    "\n",
    "for answer in quiz_answers:\n",
    "    block_name = answer.block_name\n",
    "    if block_name not in quiz_answers_block:\n",
    "        quiz_answers_block[block_name] = []\n",
    "    quiz_answers_block[block_name].append(answer)\n",
    "\n",
    "for block, answers in quiz_answers_block.items():\n",
    "    print(f\"/***************************/\")\n",
    "    print(f\"Block: {block}\")\n",
    "    for answer in answers:\n",
    "        show_answer(answer)"
   ]
  },
  {
   "cell_type": "code",
   "execution_count": 15,
   "id": "2b34c32a-ab23-44f5-ab12-fa60aba42d1b",
   "metadata": {},
   "outputs": [
    {
     "data": {
      "text/plain": [
       "dict_keys(['novice', 'competent', 'proficient', 'expert'])"
      ]
     },
     "execution_count": 15,
     "metadata": {},
     "output_type": "execute_result"
    }
   ],
   "source": [
    "quiz_answers_block.keys()"
   ]
  },
  {
   "cell_type": "code",
   "execution_count": 16,
   "id": "2fb414f0-3f12-429f-ba55-d5218bff1981",
   "metadata": {},
   "outputs": [
    {
     "name": "stdout",
     "output_type": "stream",
     "text": [
      "/***************************/\n",
      "Block: novice\n",
      "question_nos = [1, 2, 3, 4]\n",
      "answer_scores = [2, 3, 3, 3]\n",
      "/***************************/\n",
      "Block: competent\n",
      "question_nos = [1, 2, 3]\n",
      "answer_scores = [3, 5, 3]\n",
      "/***************************/\n",
      "Block: proficient\n",
      "question_nos = [1, 2, 3]\n",
      "answer_scores = [2, 5, 5]\n",
      "/***************************/\n",
      "Block: expert\n",
      "question_nos = [1, 2, 3]\n",
      "answer_scores = [5, 5, 3]\n"
     ]
    }
   ],
   "source": [
    "quiz_answers_block = {}\n",
    "\n",
    "for answer in quiz_answers:\n",
    "    block_name = answer.block_name\n",
    "    if block_name not in quiz_answers_block:\n",
    "        quiz_answers_block[block_name] = {'question_nos': [], 'answer_scores': []}\n",
    "    quiz_answers_block[block_name]['question_nos'].append(answer.question_no)\n",
    "    quiz_answers_block[block_name]['answer_scores'].append(answer.answer_score)\n",
    "\n",
    "for block, answer_dict in quiz_answers_block.items():\n",
    "    print(f\"/***************************/\")\n",
    "    print(f\"Block: {block}\")\n",
    "    print(f\"question_nos = {answer_dict['question_nos']}\")\n",
    "    print(f\"answer_scores = {answer_dict['answer_scores']}\")"
   ]
  }
 ],
 "metadata": {
  "kernelspec": {
   "display_name": "Python 3 (ipykernel)",
   "language": "python",
   "name": "python3"
  },
  "language_info": {
   "codemirror_mode": {
    "name": "ipython",
    "version": 3
   },
   "file_extension": ".py",
   "mimetype": "text/x-python",
   "name": "python",
   "nbconvert_exporter": "python",
   "pygments_lexer": "ipython3",
   "version": "3.10.8"
  }
 },
 "nbformat": 4,
 "nbformat_minor": 5
}
